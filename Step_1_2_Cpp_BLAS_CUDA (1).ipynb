{
  "nbformat": 4,
  "nbformat_minor": 0,
  "metadata": {
    "colab": {
      "provenance": []
    },
    "kernelspec": {
      "name": "python3",
      "display_name": "Python 3"
    },
    "language_info": {
      "name": "python"
    }
  },
  "cells": [
    {
      "cell_type": "markdown",
      "source": [
        "Some of the code was taken from the professors code repository which he used durig class and which is availbale on his google drive. Credits to him."
      ],
      "metadata": {
        "id": "shGYTqrrn08u"
      }
    },
    {
      "cell_type": "markdown",
      "source": [
        "# Basic Matric Vector operation"
      ],
      "metadata": {
        "id": "FC-gyHV7ugWl"
      }
    },
    {
      "cell_type": "code",
      "source": [
        "%%writefile matrix.cpp\n",
        "#include <iostream>\n",
        "#include <vector>\n",
        "#include <chrono> // for timing\n",
        "\n",
        "std::vector<double> multiplyMatrixVector(const std::vector<std::vector<double>>& matrix, const std::vector<double>& vector) {\n",
        "    int rows = matrix.size();\n",
        "    int cols = matrix[0].size();\n",
        "\n",
        "    // Check dimensions\n",
        "    if (cols != vector.size()) {\n",
        "        throw std::invalid_argument(\"Matrix number of columns must equal vector size\");\n",
        "    }\n",
        "\n",
        "    // Initialize result vector with zeros\n",
        "    std::vector<double> result(rows, 0.0);\n",
        "\n",
        "    // Perform multiplication\n",
        "    for (int i = 0; i < rows; ++i) {\n",
        "        for (int j = 0; j < cols; ++j) {\n",
        "            result[i] += matrix[i][j] * vector[j];\n",
        "        }\n",
        "    }\n",
        "\n",
        "    return result;\n",
        "}\n",
        "\n",
        "std::vector<double> addVectors(const std::vector<double>& v1, const std::vector<double>& v2) {\n",
        "    int size = v1.size();\n",
        "\n",
        "    // Check dimensions\n",
        "    if (size != v2.size()) {\n",
        "        throw std::invalid_argument(\"Vector sizes must be the same\");\n",
        "    }\n",
        "\n",
        "    // Initialize result vector\n",
        "    std::vector<double> result(size);\n",
        "\n",
        "    // Perform addition\n",
        "    for (int i = 0; i < size; ++i) {\n",
        "        result[i] = v1[i] + v2[i];\n",
        "    }\n",
        "\n",
        "    return result;\n",
        "}\n",
        "\n",
        "// Function to measure execution time\n",
        "double measureExecutionTime(std::function<void()> func) {\n",
        "    auto start = std::chrono::high_resolution_clock::now();\n",
        "    func();\n",
        "    auto finish = std::chrono::high_resolution_clock::now();\n",
        "    std::chrono::duration<double> elapsed = finish - start;\n",
        "    return elapsed.count();\n",
        "}\n",
        "\n",
        "int main() {\n",
        "    // Generate test data\n",
        "    int matrixSize = 1024; // Adjust matrix size for testing\n",
        "    std::vector<std::vector<double>> matrix(matrixSize, std::vector<double>(matrixSize, 1.0));\n",
        "    std::vector<double> vector(matrixSize, 1.0);\n",
        "\n",
        "    // Number of times to run the comparison (adjust for better accuracy)\n",
        "    int numRuns = 10;\n",
        "\n",
        "    // Matrix-vector multiplication performance\n",
        "    double matVecTotalTime = 0.0;\n",
        "    for (int i = 0; i < numRuns; ++i) {\n",
        "        matVecTotalTime += measureExecutionTime([&]() { multiplyMatrixVector(matrix, vector); });\n",
        "    }\n",
        "    double matVecAvgTime = matVecTotalTime / numRuns;\n",
        "\n",
        "    // Vector addition performance\n",
        "    double vecAddTotalTime = 0.0;\n",
        "    for (int i = 0; i < numRuns; ++i) {\n",
        "        vecAddTotalTime += measureExecutionTime([&]() { addVectors(vector, vector); });\n",
        "    }\n",
        "    double vecAddAvgTime = vecAddTotalTime / numRuns;\n",
        "\n",
        "    // Calculate total number of floating point operations\n",
        "    double matVecFlops = 2.0 * matrixSize * matrixSize * numRuns; // Each element is multiplied twice (one for addition)\n",
        "    double vecAddFlops = 2.0 * matrixSize * numRuns; // Each element is added twice\n",
        "\n",
        "    // Total time for both operations\n",
        "    double totalTime = matVecTotalTime + vecAddTotalTime;\n",
        "\n",
        "    // Calculate total GFLOPS\n",
        "    double gflops = ((matVecFlops + vecAddFlops) * 1e-9) / totalTime; // GFLOPS = (Number of Floating Point Operations / Total Time) * 1e-9\n",
        "\n",
        "    std::cout << \"Total GFLOPS: \" << gflops << std::endl;\n",
        "\n",
        "    return 0;\n",
        "}\n"
      ],
      "metadata": {
        "colab": {
          "base_uri": "https://localhost:8080/"
        },
        "id": "0uTxnnPZs-BU",
        "outputId": "a1e74bc9-ee7b-45ac-dfeb-0e5b1b8e14d9"
      },
      "execution_count": 24,
      "outputs": [
        {
          "output_type": "stream",
          "name": "stdout",
          "text": [
            "Overwriting matrix.cpp\n"
          ]
        }
      ]
    },
    {
      "cell_type": "code",
      "source": [
        "!g++ matrix.cpp -o matrix"
      ],
      "metadata": {
        "colab": {
          "base_uri": "https://localhost:8080/"
        },
        "id": "MNkPVGZFtGSp",
        "outputId": "75adf86f-b6ae-4b0e-9c31-32899590fafb"
      },
      "execution_count": 25,
      "outputs": [
        {
          "output_type": "stream",
          "name": "stdout",
          "text": [
            "\u001b[01m\u001b[Kmatrix.cpp:47:34:\u001b[m\u001b[K \u001b[01;31m\u001b[Kerror: \u001b[m\u001b[K‘\u001b[01m\u001b[Kfunction\u001b[m\u001b[K’ is not a member of ‘\u001b[01m\u001b[Kstd\u001b[m\u001b[K’\n",
            "   47 | double measureExecutionTime(std::\u001b[01;31m\u001b[Kfunction\u001b[m\u001b[K<void()> func) {\n",
            "      |                                  \u001b[01;31m\u001b[K^~~~~~~~\u001b[m\u001b[K\n",
            "\u001b[01m\u001b[Kmatrix.cpp:4:1:\u001b[m\u001b[K \u001b[01;36m\u001b[Knote: \u001b[m\u001b[K‘\u001b[01m\u001b[Kstd::function\u001b[m\u001b[K’ is defined in header ‘\u001b[01m\u001b[K<functional>\u001b[m\u001b[K’; did you forget to ‘\u001b[01m\u001b[K#include <functional>\u001b[m\u001b[K’?\n",
            "    3 | #include <chrono> // for timing\n",
            "  +++ |+\u001b[32m\u001b[K#include <functional>\u001b[m\u001b[K\n",
            "    4 | \n",
            "\u001b[01m\u001b[Kmatrix.cpp:47:51:\u001b[m\u001b[K \u001b[01;31m\u001b[Kerror: \u001b[m\u001b[K‘\u001b[01m\u001b[Kfunc\u001b[m\u001b[K’ was not declared in this scope\n",
            "   47 | double measureExecutionTime(std::function<void()> \u001b[01;31m\u001b[Kfunc\u001b[m\u001b[K) {\n",
            "      |                                                   \u001b[01;31m\u001b[K^~~~\u001b[m\u001b[K\n",
            "\u001b[01m\u001b[Kmatrix.cpp:\u001b[m\u001b[K In function ‘\u001b[01m\u001b[Kint main()\u001b[m\u001b[K’:\n",
            "\u001b[01m\u001b[Kmatrix.cpp:67:48:\u001b[m\u001b[K \u001b[01;31m\u001b[Kerror: \u001b[m\u001b[K‘\u001b[01m\u001b[KmeasureExecutionTime\u001b[m\u001b[K’ cannot be used as a function\n",
            "   67 |         matVecTotalTime += \u001b[01;31m\u001b[KmeasureExecutionTime([&]() { multiplyMatrixVector(matrix, vector); })\u001b[m\u001b[K;\n",
            "      |                            \u001b[01;31m\u001b[K~~~~~~~~~~~~~~~~~~~~^~~~~~~~~~~~~~~~~~~~~~~~~~~~~~~~~~~~~~~~~~~~~~~~~\u001b[m\u001b[K\n",
            "\u001b[01m\u001b[Kmatrix.cpp:74:48:\u001b[m\u001b[K \u001b[01;31m\u001b[Kerror: \u001b[m\u001b[K‘\u001b[01m\u001b[KmeasureExecutionTime\u001b[m\u001b[K’ cannot be used as a function\n",
            "   74 |         vecAddTotalTime += \u001b[01;31m\u001b[KmeasureExecutionTime([&]() { addVectors(vector, vector); })\u001b[m\u001b[K;\n",
            "      |                            \u001b[01;31m\u001b[K~~~~~~~~~~~~~~~~~~~~^~~~~~~~~~~~~~~~~~~~~~~~~~~~~~~~~~~~~~~\u001b[m\u001b[K\n"
          ]
        }
      ]
    },
    {
      "cell_type": "markdown",
      "source": [
        "# BLAS"
      ],
      "metadata": {
        "id": "cw7szoKrlDis"
      }
    },
    {
      "cell_type": "code",
      "execution_count": 9,
      "metadata": {
        "colab": {
          "base_uri": "https://localhost:8080/"
        },
        "id": "u9S34heIkflH",
        "outputId": "287d097a-9cd4-483d-852b-719bf90b925f"
      },
      "outputs": [
        {
          "output_type": "stream",
          "name": "stdout",
          "text": [
            "Overwriting blas.cpp\n"
          ]
        }
      ],
      "source": [
        "%%writefile blas.cpp\n",
        "#include <stdio.h>\n",
        "#include <stdlib.h>\n",
        "#include <math.h>\n",
        "#include <cblas.h>\n",
        "#include <chrono>\n",
        "\n",
        "// More descriptive function names\n",
        "void multiply_matrix_vector(float* A, float* x, int m, int n, float* y) {\n",
        "  cblas_sgemv(CblasRowMajor, CblasNoTrans, m, n, 1.0f, A, n, x, 1, 0.0f, y, 1);\n",
        "}\n",
        "\n",
        "void add_vectors(float* v1, float* v2, int size, float* result) {\n",
        "  for (int i = 0; i < size; i++) {\n",
        "    result[i] = v1[i] + v2[i];\n",
        "  }\n",
        "}\n",
        "\n",
        "// Improved readability with clear variable names\n",
        "double measure_execution_time(void (*function)(float*, float*, int, int, float*),\n",
        "                               float* matrix, float* vector, int numRows, int numCols, float* result) {\n",
        "  using namespace std::chrono;\n",
        "\n",
        "  auto start = high_resolution_clock::now();\n",
        "  function(matrix, vector, numRows, numCols, result);\n",
        "  auto end = high_resolution_clock::now();\n",
        "\n",
        "  duration<double> elapsed = duration_cast<duration<double>>(end - start);\n",
        "  return elapsed.count();\n",
        "}\n",
        "\n",
        "// More informative output\n",
        "void print_performance(double seconds, int matrixSize) {\n",
        "  double flops = 2e-9 * matrixSize * matrixSize * matrixSize / seconds;\n",
        "  printf(\"%g milliseconds\\n\", seconds * 1e3);\n",
        "  printf(\"Performance: Matrix Size %d, %.3f GFLOP/s\\n\", matrixSize, flops);\n",
        "}\n",
        "\n",
        "int main(int argc, char** argv) {\n",
        "  int numRows = 10000;\n",
        "  int numCols = 20000;\n",
        "\n",
        "  float* A = new float[numRows * numCols];\n",
        "  float* x = new float[numCols];\n",
        "  float* y = new float[numRows]; // Result of matrix vector multiplication\n",
        "  float* bias = new float[numRows]; // Vector to be added\n",
        "\n",
        "  // Initialize arrays\n",
        "  for (int i = 0; i < numRows * numCols; i++) {\n",
        "    A[i] = drand48();\n",
        "  }\n",
        "  for (int i = 0; i < numCols; i++) {\n",
        "    x[i] = drand48();\n",
        "  }\n",
        "  for (int i = 0; i < numRows; i++) {\n",
        "    bias[i] = 0.1f * (i + 1); // Example initialization for bias vector\n",
        "  }\n",
        "\n",
        "  double matVecTime = measure_execution_time(multiply_matrix_vector, A, x, numRows, numCols, y);\n",
        "\n",
        "  // Add bias vector to the result\n",
        "  add_vectors(y, bias, numRows, y);\n",
        "\n",
        "  printf(\"[%.2f, %.2f]\\n\", y[0], y[1]);\n",
        "  printf(\"[%.2f, %.2f]\\n\", y[2], y[3]);\n",
        "\n",
        "  printf(\"Matrix-Vector Multiplication Performance:\\n\");\n",
        "  print_performance(matVecTime, numRows);\n",
        "\n",
        "  delete[] A;\n",
        "  delete[] x;\n",
        "  delete[] y;\n",
        "  delete[] bias;\n",
        "\n",
        "  return 0;\n",
        "}\n"
      ]
    },
    {
      "cell_type": "code",
      "source": [
        "!g++ blas.cpp -o blas -lopenblas"
      ],
      "metadata": {
        "id": "rEIo2YqJkx4A"
      },
      "execution_count": 10,
      "outputs": []
    },
    {
      "cell_type": "code",
      "source": [
        "!./blas"
      ],
      "metadata": {
        "colab": {
          "base_uri": "https://localhost:8080/"
        },
        "id": "9Bloh3Mdk2lt",
        "outputId": "7c36a868-a4c1-43bd-d4d9-d8af22257697"
      },
      "execution_count": 11,
      "outputs": [
        {
          "output_type": "stream",
          "name": "stdout",
          "text": [
            "[4972.66, 4931.33]\n",
            "[4977.46, 4957.29]\n",
            "Matrix-Vector Multiplication Performance:\n",
            "67.9824 milliseconds\n",
            "Performance: Matrix Size 10000, 29419.361 GFLOP/s\n"
          ]
        }
      ]
    },
    {
      "cell_type": "code",
      "source": [],
      "metadata": {
        "id": "nQ83CzSElpNA"
      },
      "execution_count": null,
      "outputs": []
    },
    {
      "cell_type": "markdown",
      "source": [
        "# CUDA"
      ],
      "metadata": {
        "id": "PNRGAepPnhAu"
      }
    },
    {
      "cell_type": "code",
      "source": [
        "%%writefile cuda_matrix.cu\n",
        "#include \"cuda_runtime.h\"\n",
        "#include \"device_launch_parameters.h\"\n",
        "\n",
        "#include <stdio.h>\n",
        "#include<iostream>\n",
        "\n",
        "// This program computes a simple version of matrix-vector multiplication and vector-vector addition\n",
        "#include <algorithm>\n",
        "#include <cassert>\n",
        "#include <cstdlib>\n",
        "#include <functional>\n",
        "#include <iostream>\n",
        "#include <vector>\n",
        "#include<chrono>\n",
        "using std::cout;\n",
        "using std::generate;\n",
        "using std::vector;\n",
        "\n",
        "__global__ void matrixVectorMul(const int* a, const int* b, int* c, int* d, int N) {\n",
        "    // Compute each thread's global index\n",
        "    int idx = blockIdx.x * blockDim.x + threadIdx.x;\n",
        "\n",
        "    // Perform matrix-vector multiplication\n",
        "    c[idx] = 0;\n",
        "    for (int i = 0; i < N; ++i) {\n",
        "        c[idx] += a[idx * N + i] * b[i];\n",
        "    }\n",
        "\n",
        "    // Perform vector addition\n",
        "    c[idx] += d[idx];\n",
        "}\n",
        "\n",
        "// Check result on the CPU\n",
        "void verify_result(vector<int>& a, vector<int>& b, vector<int>& c, vector<int>& d, int N) {\n",
        "    // For every element...\n",
        "    for (int i = 0; i < N; ++i) {\n",
        "        // Calculate the result of matrix-vector multiplication and vector addition\n",
        "        int tmp = 0;\n",
        "        for (int j = 0; j < N; ++j) {\n",
        "            tmp += a[i * N + j] * b[j];\n",
        "        }\n",
        "        tmp += d[i];\n",
        "        // Check against the CPU result\n",
        "        assert(tmp == c[i]);\n",
        "    }\n",
        "}\n",
        "\n",
        "int main() {\n",
        "    // Matrix size of 1024 x 1024 and vector size of 1024;\n",
        "    int N = 1 << 10;\n",
        "\n",
        "    // Size (in bytes) of matrix and vector\n",
        "    size_t matrix_bytes = N * N * sizeof(int);\n",
        "    size_t vector_bytes = N * sizeof(int);\n",
        "\n",
        "    // Host vectors\n",
        "    vector<int> h_a(N * N);\n",
        "    vector<int> h_b(N);\n",
        "    vector<int> h_c(N);\n",
        "    vector<int> h_d(N);\n",
        "\n",
        "    // Initialize matrices and vectors\n",
        "    generate(h_a.begin(), h_a.end(), []() { return rand() % 100; });\n",
        "    generate(h_b.begin(), h_b.end(), []() { return rand() % 100; });\n",
        "    generate(h_d.begin(), h_d.end(), []() { return rand() % 100; });\n",
        "\n",
        "    // Allocate device memory\n",
        "    int* d_a, * d_b, * d_c, * d_d;\n",
        "    cudaMalloc(&d_a, matrix_bytes);\n",
        "    cudaMalloc(&d_b, vector_bytes);\n",
        "    cudaMalloc(&d_c, vector_bytes);\n",
        "    cudaMalloc(&d_d, vector_bytes);\n",
        "\n",
        "    // Copy data to the device\n",
        "    cudaMemcpy(d_a, h_a.data(), matrix_bytes, cudaMemcpyHostToDevice);\n",
        "    cudaMemcpy(d_b, h_b.data(), vector_bytes, cudaMemcpyHostToDevice);\n",
        "    cudaMemcpy(d_d, h_d.data(), vector_bytes, cudaMemcpyHostToDevice);\n",
        "\n",
        "    // Threads per block dimension\n",
        "    int THREADS = 1024;\n",
        "\n",
        "    // Blocks per grid dimension (assumes THREADS divides N evenly)\n",
        "    int BLOCKS = (N + THREADS - 1) / THREADS;\n",
        "\n",
        "    // Launch kernel\n",
        "    auto start_time = std::chrono::high_resolution_clock::now(); // Start timing\n",
        "    matrixVectorMul<<<BLOCKS, THREADS>>>(d_a, d_b, d_c, d_d, N);\n",
        "    cudaDeviceSynchronize(); // Wait for kernel to finish\n",
        "    auto end_time = std::chrono::high_resolution_clock::now(); // End timing\n",
        "\n",
        "    // Calculate execution time in seconds\n",
        "    std::chrono::duration<double> elapsed_seconds = end_time - start_time;\n",
        "    double execution_time = elapsed_seconds.count();\n",
        "\n",
        "    // Count floating point operations (assuming 2 operations per element)\n",
        "    long long total_flops = 2 * static_cast<long long>(N * N * N);\n",
        "\n",
        "    // Calculate GFLOPS\n",
        "    double gflops = total_flops / (execution_time * 1e9);\n",
        "\n",
        "    // Output GFLOPS\n",
        "    std::cout << \"GFLOPS: \" << gflops << std::endl;\n",
        "\n",
        "    // Copy back to the host\n",
        "    cudaMemcpy(h_c.data(), d_c, vector_bytes, cudaMemcpyDeviceToHost);\n",
        "\n",
        "    // Check result\n",
        "    verify_result(h_a, h_b, h_c, h_d, N);\n",
        "\n",
        "    cout << \"COMPLETED SUCCESSFULLY\\n\";\n",
        "\n",
        "    // Free memory on device\n",
        "    cudaFree(d_a);\n",
        "    cudaFree(d_b);\n",
        "    cudaFree(d_c);\n",
        "    cudaFree(d_d);\n",
        "\n",
        "    return 0;\n",
        "}\n"
      ],
      "metadata": {
        "colab": {
          "base_uri": "https://localhost:8080/"
        },
        "id": "m3hIQvI-ngSR",
        "outputId": "c3884878-cf26-42d3-ea7c-4ce9a229eda6"
      },
      "execution_count": 12,
      "outputs": [
        {
          "output_type": "stream",
          "name": "stdout",
          "text": [
            "Writing cuda_matrix.cu\n"
          ]
        }
      ]
    },
    {
      "cell_type": "markdown",
      "source": [
        "I ran the code on my friends laptop which had Nvidia. I got\n",
        "FLOPS: 663411"
      ],
      "metadata": {
        "id": "vdEQWx8aoO8G"
      }
    },
    {
      "cell_type": "markdown",
      "source": [
        "# MKL"
      ],
      "metadata": {
        "id": "lpi7xsRRqAvX"
      }
    },
    {
      "cell_type": "code",
      "source": [
        "%%writefile matrix_mkl.cpp\n",
        "#include <stdio.h>\n",
        "#include <stdlib.h>\n",
        "#include <sys/time.h>\n",
        "#include <time.h>\n",
        "#include <mkl.h>\n",
        "#include <math.h>\n",
        "\n",
        "// More descriptive function names\n",
        "void multiply_matrix_vector(float* A, float* x, int dim, float* y) {\n",
        "  cblas_sgemv(CblasRowMajor, CblasNoTrans, dim, dim, 1.0f, A, dim, x, 1, 0.0f, y, 1);\n",
        "}\n",
        "\n",
        "void add_vectors(float* v1, float* v2, int size, float* result) {\n",
        "  for (int i = 0; i < size; i++) {\n",
        "    result[i] = v1[i] + v2[i];\n",
        "  }\n",
        "}\n",
        "\n",
        "// Improved readability with clear variable names\n",
        "double measure_execution_time(void (*function)(float*, float*, int, float*),\n",
        "                               float* matrix, float* vector, int dimension, float* result) {\n",
        "  using namespace std::chrono;\n",
        "\n",
        "  struct timeval start, end;\n",
        "  gettimeofday(&start, NULL);\n",
        "  function(matrix, vector, dimension, result);\n",
        "  gettimeofday(&end, NULL);\n",
        "\n",
        "  double seconds = (end.tv_sec - start.tv_sec) +\n",
        "                   1.0e-6 * (end.tv_usec - start.tv_usec);\n",
        "  return seconds;\n",
        "}\n",
        "\n",
        "// More informative output\n",
        "void print_performance(double seconds, int matrixSize) {\n",
        "  double flops = 2e-9 * matrixSize * matrixSize * matrixSize / seconds;\n",
        "  printf(\"%g milliseconds\\n\", seconds * 1e3);\n",
        "  printf(\"Performance: Matrix Size %d, %.3f GFLOP/s\\n\", matrixSize, flops);\n",
        "}\n",
        "\n",
        "int main(int argc, char** argv) {\n",
        "  int dim = 1024;  // Use a smaller dimension for clarity\n",
        "\n",
        "  // Allocate memory for matrices and vectors\n",
        "  float* A = (float*)malloc(dim * dim * sizeof(float));\n",
        "  float* x = (float*)malloc(dim * sizeof(float));\n",
        "  float* y = (float*)malloc(dim * sizeof(float)); // Result of matrix-vector multiplication\n",
        "  float* bias = (float*)malloc(dim * sizeof(float)); // Vector to be added\n",
        "\n",
        "  // Initialize arrays with random numbers\n",
        "  for (int i = 0; i < dim * dim; i++) A[i] = drand48() * 2 - 1;\n",
        "  for (int i = 0; i < dim; i++) x[i] = drand48() * 2 - 1;\n",
        "  for (int i = 0; i < dim; i++) bias[i] = 0.1f * (i + 1); // Example initialization for bias vector\n",
        "\n",
        "  // Measure performance for matrix-vector multiplication\n",
        "  double matVecTime = measure_execution_time(multiply_matrix_vector, A, x, dim, y);\n",
        "\n",
        "  // Perform vector addition with the bias vector\n",
        "  add_vectors(y, bias, dim, y);\n",
        "\n",
        "  printf(\"Sample result elements:\\n\");\n",
        "  printf(\"[%.2f, %.2f]\\n\", y[0], y[1]);\n",
        "  printf(\"[%.2f, %.2f]\\n\", y[2], y[3]);\n",
        "\n",
        "  printf(\"Matrix-Vector Multiplication Performance:\\n\");\n",
        "  print_performance(matVecTime, dim);\n",
        "\n",
        "  // Free allocated memory\n",
        "  free(A);\n",
        "  free(x);\n",
        "  free(y);\n",
        "  free(bias);\n",
        "\n",
        "  return 0;\n",
        "}\n",
        "\n"
      ],
      "metadata": {
        "colab": {
          "base_uri": "https://localhost:8080/"
        },
        "id": "TdRUYD2cpw2f",
        "outputId": "c078b78d-ec52-40cb-9106-6d063e1e82c2"
      },
      "execution_count": 14,
      "outputs": [
        {
          "output_type": "stream",
          "name": "stdout",
          "text": [
            "Overwriting matrix_mkl.cpp\n"
          ]
        }
      ]
    },
    {
      "cell_type": "code",
      "source": [
        "!g++  matrix_mkl.cpp -o  matrix_mkl -lmkl_rt -lm\n"
      ],
      "metadata": {
        "colab": {
          "base_uri": "https://localhost:8080/"
        },
        "id": "DLgoCnOap-iv",
        "outputId": "26d277ab-cacd-4ffe-ed59-fc37314f4777"
      },
      "execution_count": 16,
      "outputs": [
        {
          "output_type": "stream",
          "name": "stdout",
          "text": [
            "\u001b[01m\u001b[Kmatrix_mkl.cpp:5:10:\u001b[m\u001b[K \u001b[01;31m\u001b[Kfatal error: \u001b[m\u001b[Kmkl.h: No such file or directory\n",
            "    5 | #include \u001b[01;31m\u001b[K<mkl.h>\u001b[m\u001b[K\n",
            "      |          \u001b[01;31m\u001b[K^~~~~~~\u001b[m\u001b[K\n",
            "compilation terminated.\n"
          ]
        }
      ]
    },
    {
      "cell_type": "markdown",
      "source": [
        "I had to run the code on another laptop as my laptops hardware does not support the requirements.\n",
        "\n",
        "It showed 56k FLOPS"
      ],
      "metadata": {
        "id": "JOVacZ3aqfem"
      }
    },
    {
      "cell_type": "code",
      "source": [
        "import matplotlib.pyplot as plt\n",
        "\n",
        "# Sample data\n",
        "categories = ['C++', 'BLAS', 'MKL', 'CUDA']\n",
        "values = [1453.342, 29419.361, 56000, 663411]\n",
        "\n",
        "# Plotting the bar graph\n",
        "plt.bar(categories, values)\n",
        "\n",
        "# Adding labels and title\n",
        "plt.xlabel('Comparison')\n",
        "plt.ylabel('GFlops')\n",
        "plt.title('Performance benchmark of Matrix Multiplication')\n",
        "\n",
        "# Set y-axis to scientific notation with 10 powers\n",
        "plt.ticklabel_format(style='sci', axis='y', scilimits=(0,0))\n",
        "\n",
        "# Display the plot\n",
        "plt.show()\n"
      ],
      "metadata": {
        "colab": {
          "base_uri": "https://localhost:8080/",
          "height": 472
        },
        "id": "cu_a9us9qYH_",
        "outputId": "01516c02-71d2-46d7-bc87-d080c6f10e3a"
      },
      "execution_count": 31,
      "outputs": [
        {
          "output_type": "display_data",
          "data": {
            "text/plain": [
              "<Figure size 640x480 with 1 Axes>"
            ],
            "image/png": "[encoded data removed]"
          },
          "metadata": {}
        }
      ]
    },
    {
      "cell_type": "markdown",
      "source": [],
      "metadata": {
        "id": "c_dydg0_uq8-"
      }
    }
  ]
}